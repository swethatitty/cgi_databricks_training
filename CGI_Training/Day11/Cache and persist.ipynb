{
 "cells": [
  {
   "cell_type": "code",
   "execution_count": 0,
   "metadata": {
    "application/vnd.databricks.v1+cell": {
     "cellMetadata": {
      "byteLimit": 2048000,
      "rowLimit": 10000
     },
     "inputWidgets": {},
     "nuid": "76fc26da-890a-4060-ba8f-b6ec6dfb1c34",
     "showTitle": false,
     "tableResultSettingsMap": {},
     "title": ""
    }
   },
   "outputs": [],
   "source": [
    "import pyspark.sql.functions as F\n",
    "from pyspark.sql.types import StructType, StructField, StringType, IntegerType, FloatType"
   ]
  },
  {
   "cell_type": "code",
   "execution_count": 0,
   "metadata": {
    "application/vnd.databricks.v1+cell": {
     "cellMetadata": {
      "byteLimit": 2048000,
      "rowLimit": 10000
     },
     "inputWidgets": {},
     "nuid": "64adbd0e-d1f4-4f61-839b-786ae557c7e4",
     "showTitle": false,
     "tableResultSettingsMap": {},
     "title": ""
    }
   },
   "outputs": [],
   "source": [
    "customer_schema  = StructType(\n",
    "    [\n",
    "        StructField('customer_id',FloatType()),\n",
    "        StructField('customer_name',StringType()),\n",
    "        StructField('email',StringType()),\n",
    "        StructField('city',StringType())\n",
    "    ]\n",
    ")\n",
    "product_schema  = StructType(\n",
    "    [\n",
    "        StructField('product_id',FloatType()),\n",
    "        StructField('product_name',StringType()),\n",
    "        StructField('category',StringType()),\n",
    "        StructField('price',FloatType())\n",
    "     ]\n",
    ")\n",
    "sales_schema = StructType(\n",
    "    [\n",
    "        StructField('sale_id',IntegerType()),\n",
    "        StructField('product_id',IntegerType()),\n",
    "        StructField('customer_id',IntegerType()),\n",
    "        StructField('store_id',IntegerType()),\n",
    "        StructField('quantity',IntegerType()),\n",
    "        StructField('sale_date',StringType())\n",
    "    ]\n",
    ")\n",
    "inventory_schema = StructType(\n",
    "    [\n",
    "        StructField('store_id',FloatType()),\n",
    "        StructField('product_id',FloatType()),\n",
    "        StructField('stock_quantity',StringType())\n",
    "    ]\n",
    ")\n",
    "stores_schema = StructType(\n",
    "    [\n",
    "        StructField('store_id',FloatType()),\n",
    "        StructField('store_name',StringType()),\n",
    "        StructField('city',StringType())\n",
    "    ]\n",
    ")"
   ]
  },
  {
   "cell_type": "code",
   "execution_count": 0,
   "metadata": {
    "application/vnd.databricks.v1+cell": {
     "cellMetadata": {
      "byteLimit": 2048000,
      "rowLimit": 10000
     },
     "inputWidgets": {},
     "nuid": "3598ce57-3d01-46b1-9404-c3962a70f654",
     "showTitle": false,
     "tableResultSettingsMap": {},
     "title": ""
    }
   },
   "outputs": [],
   "source": [
    "input_path = \"/Volumes/cgi_dev/naval/dataset/\"\n",
    "input_s3=\"s3://datamaster/dataset/\"\n",
    "df_customer = spark.read.csv(f\"{input_path}Customers.csv\",schema = customer_schema,header=True)\n",
    "df_inventory = spark.read.csv(f\"{input_path}Inventory.csv\",schema = inventory_schema,header=True)\n",
    "df_store = spark.read.csv(f\"{input_path}Stores.csv\",schema = stores_schema,header=True)\n",
    "df_product = spark.read.csv(f\"{input_path}Products.csv\",schema = product_schema,header=True)\n",
    "df_sales = spark.read.csv(f\"{input_s3}skewed_sales_data.csv\",schema = sales_schema,header=True)"
   ]
  },
  {
   "cell_type": "markdown",
   "metadata": {
    "application/vnd.databricks.v1+cell": {
     "cellMetadata": {},
     "inputWidgets": {},
     "nuid": "eb58692f-53c7-4f7c-830a-8b16d97ea171",
     "showTitle": false,
     "tableResultSettingsMap": {},
     "title": ""
    }
   },
   "source": [
    "### Use Case: Identify Top-Selling Products by City & Optimize Inventory\n",
    "Scenario:\n",
    "A retail company wants to analyze top-selling products in each city and compare it with current inventory levels to prevent stockouts. Since sales and inventory data are used multiple times in the workflow, caching will be used to optimize performance."
   ]
  },
  {
   "cell_type": "code",
   "execution_count": 0,
   "metadata": {
    "application/vnd.databricks.v1+cell": {
     "cellMetadata": {
      "byteLimit": 2048000,
      "rowLimit": 10000
     },
     "inputWidgets": {},
     "nuid": "4386c6d6-1642-43fd-adfb-9526d8d6f640",
     "showTitle": false,
     "tableResultSettingsMap": {},
     "title": ""
    }
   },
   "outputs": [],
   "source": [
    "df_sales_enriched = df_sales \\\n",
    "    .join(df_product, \"product_id\", \"inner\") \\\n",
    "    .join(df_store, \"store_id\", \"inner\") \\\n",
    "    .join(df_customer, \"customer_id\", \"inner\") \\\n",
    "    .select(\"sale_id\", \"product_id\", \"product_name\", \"category\", \n",
    "            \"price\", \"customer_id\", \"customer_name\", df_customer.city, \n",
    "            \"store_id\", \"store_name\", \"quantity\", \"sale_date\")\n",
    "    \n",
    "df_sales_enriched.cache()\n",
    "df_sales_enriched.count()"
   ]
  },
  {
   "cell_type": "code",
   "execution_count": 0,
   "metadata": {
    "application/vnd.databricks.v1+cell": {
     "cellMetadata": {
      "byteLimit": 2048000,
      "rowLimit": 10000
     },
     "inputWidgets": {},
     "nuid": "46176f0c-5530-40b2-9f94-9b44edebc7bb",
     "showTitle": false,
     "tableResultSettingsMap": {},
     "title": ""
    }
   },
   "outputs": [],
   "source": [
    "# 1sec\n",
    "df_sales_enriched.display()"
   ]
  },
  {
   "cell_type": "code",
   "execution_count": 0,
   "metadata": {
    "application/vnd.databricks.v1+cell": {
     "cellMetadata": {
      "byteLimit": 2048000,
      "rowLimit": 10000
     },
     "inputWidgets": {},
     "nuid": "f75d3130-d097-48e1-bd16-6771bbef848b",
     "showTitle": false,
     "tableResultSettingsMap": {},
     "title": ""
    }
   },
   "outputs": [],
   "source": [
    "# 2 min\n",
    "df_sales_enriched.display()"
   ]
  },
  {
   "cell_type": "code",
   "execution_count": 0,
   "metadata": {
    "application/vnd.databricks.v1+cell": {
     "cellMetadata": {
      "byteLimit": 2048000,
      "rowLimit": 10000
     },
     "inputWidgets": {},
     "nuid": "bce8ca29-f4ad-4d5d-ba14-d9b894b49fbb",
     "showTitle": false,
     "tableResultSettingsMap": {},
     "title": ""
    }
   },
   "outputs": [],
   "source": [
    "df_sales_enriched.explain(True)"
   ]
  },
  {
   "cell_type": "code",
   "execution_count": 0,
   "metadata": {
    "application/vnd.databricks.v1+cell": {
     "cellMetadata": {
      "byteLimit": 2048000,
      "rowLimit": 10000
     },
     "inputWidgets": {},
     "nuid": "863db258-fe03-4733-99f3-ddecd526b417",
     "showTitle": false,
     "tableResultSettingsMap": {},
     "title": ""
    }
   },
   "outputs": [],
   "source": [
    "df_top_selling = df_sales_enriched \\\n",
    "    .groupBy(\"city\", \"product_id\", \"product_name\") \\\n",
    "    .agg(F.sum(\"quantity\").alias(\"total_quantity_sold\")) \\\n",
    "    .orderBy(\"city\", F.desc(\"total_quantity_sold\"))"
   ]
  },
  {
   "cell_type": "code",
   "execution_count": 0,
   "metadata": {
    "application/vnd.databricks.v1+cell": {
     "cellMetadata": {
      "byteLimit": 2048000,
      "rowLimit": 10000
     },
     "inputWidgets": {},
     "nuid": "1d9ec861-f1f6-4c52-b961-8cea92178bdf",
     "showTitle": false,
     "tableResultSettingsMap": {},
     "title": ""
    }
   },
   "outputs": [],
   "source": [
    "df_top_selling.explain()"
   ]
  },
  {
   "cell_type": "code",
   "execution_count": 0,
   "metadata": {
    "application/vnd.databricks.v1+cell": {
     "cellMetadata": {
      "byteLimit": 2048000,
      "rowLimit": 10000
     },
     "inputWidgets": {},
     "nuid": "847a44d8-b0eb-4a22-bb61-459bfe6c4428",
     "showTitle": false,
     "tableResultSettingsMap": {},
     "title": ""
    }
   },
   "outputs": [],
   "source": [
    "display(df_top_selling)"
   ]
  },
  {
   "cell_type": "code",
   "execution_count": 0,
   "metadata": {
    "application/vnd.databricks.v1+cell": {
     "cellMetadata": {
      "byteLimit": 2048000,
      "rowLimit": 10000
     },
     "inputWidgets": {},
     "nuid": "c6aa97d4-40ec-4ff0-a7c9-2850d84148ff",
     "showTitle": false,
     "tableResultSettingsMap": {},
     "title": ""
    }
   },
   "outputs": [],
   "source": [
    "display(df_top_selling)"
   ]
  },
  {
   "cell_type": "code",
   "execution_count": 0,
   "metadata": {
    "application/vnd.databricks.v1+cell": {
     "cellMetadata": {
      "byteLimit": 2048000,
      "rowLimit": 10000
     },
     "inputWidgets": {},
     "nuid": "234266ce-26bf-4050-a1c0-fb0e3d5e68d2",
     "showTitle": false,
     "tableResultSettingsMap": {},
     "title": ""
    }
   },
   "outputs": [],
   "source": [
    "df_inventory_status = df_top_selling \\\n",
    "    .join(df_inventory, [\"product_id\"], \"left\") \\\n",
    "    .select(\"city\", \"product_name\", \"total_quantity_sold\", \"stock_quantity\")"
   ]
  },
  {
   "cell_type": "code",
   "execution_count": 0,
   "metadata": {
    "application/vnd.databricks.v1+cell": {
     "cellMetadata": {
      "byteLimit": 2048000,
      "rowLimit": 10000
     },
     "inputWidgets": {},
     "nuid": "9594259a-2e61-415f-8309-54358a486858",
     "showTitle": false,
     "tableResultSettingsMap": {},
     "title": ""
    }
   },
   "outputs": [],
   "source": [
    "df_inventory_status.explain()"
   ]
  },
  {
   "cell_type": "code",
   "execution_count": 0,
   "metadata": {
    "application/vnd.databricks.v1+cell": {
     "cellMetadata": {
      "byteLimit": 2048000,
      "rowLimit": 10000
     },
     "inputWidgets": {},
     "nuid": "b4bd95d9-fe3f-4b90-8784-33e911fef623",
     "showTitle": false,
     "tableResultSettingsMap": {},
     "title": ""
    }
   },
   "outputs": [],
   "source": [
    "df_inventory_status.explain()"
   ]
  },
  {
   "cell_type": "code",
   "execution_count": 0,
   "metadata": {
    "application/vnd.databricks.v1+cell": {
     "cellMetadata": {
      "byteLimit": 2048000,
      "rowLimit": 10000
     },
     "inputWidgets": {},
     "nuid": "8200ff33-77b4-485d-869a-233f161b352f",
     "showTitle": false,
     "tableResultSettingsMap": {},
     "title": ""
    }
   },
   "outputs": [],
   "source": [
    "display(df_inventory_status)"
   ]
  },
  {
   "cell_type": "code",
   "execution_count": 0,
   "metadata": {
    "application/vnd.databricks.v1+cell": {
     "cellMetadata": {
      "byteLimit": 2048000,
      "rowLimit": 10000
     },
     "inputWidgets": {},
     "nuid": "2de2356b-a15a-482e-985e-c9d28c341fb5",
     "showTitle": false,
     "tableResultSettingsMap": {},
     "title": ""
    }
   },
   "outputs": [],
   "source": [
    "display(df_inventory_status)"
   ]
  },
  {
   "cell_type": "code",
   "execution_count": 0,
   "metadata": {
    "application/vnd.databricks.v1+cell": {
     "cellMetadata": {
      "byteLimit": 2048000,
      "rowLimit": 10000
     },
     "inputWidgets": {},
     "nuid": "1ec28fab-d7d0-4e02-8455-d6a0633f1013",
     "showTitle": false,
     "tableResultSettingsMap": {},
     "title": ""
    }
   },
   "outputs": [],
   "source": [
    "spark.catalog.clearCache()"
   ]
  },
  {
   "cell_type": "code",
   "execution_count": 0,
   "metadata": {
    "application/vnd.databricks.v1+cell": {
     "cellMetadata": {
      "byteLimit": 2048000,
      "rowLimit": 10000
     },
     "inputWidgets": {},
     "nuid": "b7551125-4d6c-4daf-993c-00002e7aeb2c",
     "showTitle": false,
     "tableResultSettingsMap": {},
     "title": ""
    }
   },
   "outputs": [],
   "source": [
    "df_sales_enriched.display()"
   ]
  }
 ],
 "metadata": {
  "application/vnd.databricks.v1+notebook": {
   "computePreferences": null,
   "dashboards": [],
   "environmentMetadata": {
    "base_environment": "",
    "environment_version": "2"
   },
   "language": "python",
   "notebookMetadata": {
    "pythonIndentUnit": 4
   },
   "notebookName": "Cache and persist",
   "widgets": {}
  },
  "language_info": {
   "name": "python"
  }
 },
 "nbformat": 4,
 "nbformat_minor": 0
}
