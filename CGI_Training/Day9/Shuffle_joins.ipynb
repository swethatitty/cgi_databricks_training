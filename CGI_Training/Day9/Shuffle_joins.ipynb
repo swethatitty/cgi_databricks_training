{
 "cells": [
  {
   "cell_type": "code",
   "execution_count": 0,
   "metadata": {
    "application/vnd.databricks.v1+cell": {
     "cellMetadata": {
      "byteLimit": 2048000,
      "rowLimit": 10000
     },
     "inputWidgets": {},
     "nuid": "3b421964-d936-4d9d-b215-cde61919e778",
     "showTitle": false,
     "tableResultSettingsMap": {},
     "title": ""
    }
   },
   "outputs": [],
   "source": [
    "spark.conf.set('spark.databricks.io.cache.enabled',False)"
   ]
  },
  {
   "cell_type": "code",
   "execution_count": 0,
   "metadata": {
    "application/vnd.databricks.v1+cell": {
     "cellMetadata": {
      "byteLimit": 2048000,
      "rowLimit": 10000
     },
     "inputWidgets": {},
     "nuid": "64bd7229-112d-49d0-a646-3b6ffd43b375",
     "showTitle": false,
     "tableResultSettingsMap": {},
     "title": ""
    }
   },
   "outputs": [],
   "source": [
    "from pyspark.sql.functions import *\n",
    "\n",
    "transactions_df = (spark\n",
    "                        .range(0, 1500000000, 1, 32)\n",
    "                        .select(\n",
    "                            'id',\n",
    "                            round(rand() * 10000, 2).alias('amount'),\n",
    "                            (col('id') % 10).alias('country_id'),\n",
    "                            (col('id') % 100).alias('store_id')\n",
    ")\n",
    ")\n"
   ]
  },
  {
   "cell_type": "code",
   "execution_count": 0,
   "metadata": {
    "application/vnd.databricks.v1+cell": {
     "cellMetadata": {
      "byteLimit": 2048000,
      "rowLimit": 10000
     },
     "inputWidgets": {},
     "nuid": "0adfba62-b7b7-45fe-8303-e3fd467680ce",
     "showTitle": false,
     "tableResultSettingsMap": {},
     "title": ""
    }
   },
   "outputs": [],
   "source": [
    "transactions_df.write.mode(\"overwrite\").saveAsTable(\"cgi_dev.swetha.transactions\")"
   ]
  },
  {
   "cell_type": "code",
   "execution_count": 0,
   "metadata": {
    "application/vnd.databricks.v1+cell": {
     "cellMetadata": {
      "byteLimit": 2048000,
      "implicitDf": true,
      "rowLimit": 10000
     },
     "inputWidgets": {},
     "nuid": "68416a44-1c2f-4d93-9892-2bb345a52110",
     "showTitle": false,
     "tableResultSettingsMap": {},
     "title": ""
    }
   },
   "outputs": [],
   "source": [
    "%sql\n",
    "describe detail cgi_dev.swetha.transactions"
   ]
  },
  {
   "cell_type": "code",
   "execution_count": 0,
   "metadata": {
    "application/vnd.databricks.v1+cell": {
     "cellMetadata": {
      "byteLimit": 2048000,
      "implicitDf": true,
      "rowLimit": 10000
     },
     "inputWidgets": {},
     "nuid": "50af1568-22db-4539-ab45-6800ea59d2ce",
     "showTitle": false,
     "tableResultSettingsMap": {},
     "title": ""
    }
   },
   "outputs": [],
   "source": [
    "%sql\n",
    "describe extended cgi_dev.swetha.transactions"
   ]
  },
  {
   "cell_type": "code",
   "execution_count": 0,
   "metadata": {
    "application/vnd.databricks.v1+cell": {
     "cellMetadata": {
      "byteLimit": 2048000,
      "rowLimit": 10000
     },
     "inputWidgets": {},
     "nuid": "7356b852-61b0-4248-a108-80980937756f",
     "showTitle": false,
     "tableResultSettingsMap": {},
     "title": ""
    }
   },
   "outputs": [],
   "source": [
    "stores_df = (spark\n",
    "                        .range(0, 99)\n",
    "                        .select(\n",
    "                            'id',\n",
    "                            round(rand() * 100,0).alias('employees'),\n",
    "                            (col('id') % 10).alias('country_id'),\n",
    "                            expr('uuid()').alias('name')\n",
    ")\n",
    ")\n",
    "\n",
    "stores_df.write.mode(\"overwrite\").saveAsTable(\"cgi_dev.swetha.stores\")"
   ]
  },
  {
   "cell_type": "code",
   "execution_count": 0,
   "metadata": {
    "application/vnd.databricks.v1+cell": {
     "cellMetadata": {
      "byteLimit": 2048000,
      "rowLimit": 10000
     },
     "inputWidgets": {},
     "nuid": "3f1ab00d-eb43-488a-bdd4-9a6f3a88bd4c",
     "showTitle": false,
     "tableResultSettingsMap": {},
     "title": ""
    }
   },
   "outputs": [],
   "source": [
    "countries =[(0, \"Italy\"),\n",
    "            (1, \"Canada\"),\n",
    "            (2, \"Mexico\"),\n",
    "            (3, \"China\"),\n",
    "            (4, \"Germany\"),\n",
    "            (5, \"UK\"),\n",
    "            (6, \"Japan\"),\n",
    "            (7, \"Korea\"),\n",
    "            (8, \"Australia\"),\n",
    "            (9, \"France\"),\n",
    "            (10, \"Spain\"),\n",
    "            (11, \"USA\")\n",
    "            ]\n",
    "\n",
    "columns = [\"id\", \"name\"]\n",
    "\n",
    "countries_df = spark.createDataFrame(data = countries, schema = columns)\n",
    "\n",
    "countries_df.write.mode(\"overwrite\").saveAsTable(\"cgi_dev.swetha.countries\")"
   ]
  },
  {
   "cell_type": "code",
   "execution_count": 0,
   "metadata": {
    "application/vnd.databricks.v1+cell": {
     "cellMetadata": {
      "byteLimit": 2048000,
      "rowLimit": 10000
     },
     "inputWidgets": {},
     "nuid": "5d5cfe03-4b2a-4079-a0c6-f275496bdf14",
     "showTitle": false,
     "tableResultSettingsMap": {},
     "title": ""
    }
   },
   "outputs": [],
   "source": [
    "spark.conf.set(\"spark.sql.autoBroadcastJoinThreshold\", -1)\n",
    "spark.conf.set(\"spark.databricks.adaptive.autoBroadcast.JoinThreshold\", -1)"
   ]
  },
  {
   "cell_type": "code",
   "execution_count": 0,
   "metadata": {
    "application/vnd.databricks.v1+cell": {
     "cellMetadata": {
      "byteLimit": 2048000,
      "implicitDf": true,
      "rowLimit": 10000
     },
     "inputWidgets": {},
     "nuid": "30ac6cd5-a8da-4c2f-84b4-b02e19251174",
     "showTitle": false,
     "tableResultSettingsMap": {},
     "title": ""
    }
   },
   "outputs": [],
   "source": [
    "%sql\n",
    " SELECT\n",
    "        transactions.id,\n",
    "        amount,\n",
    "        countries.name as country_name,\n",
    "        employees,\n",
    "        stores.name as store_name\n",
    "    FROM\n",
    "        cgi_dev.swetha.transactions\n",
    "    LEFT JOIN\n",
    "        cgi_dev.swetha.stores\n",
    "        ON\n",
    "            transactions.store_id = stores.id\n",
    "        LEFT JOIN\n",
    "            cgi_dev.swetha.countries\n",
    "            ON\n",
    "                transactions.country_id = countries.id"
   ]
  },
  {
   "cell_type": "code",
   "execution_count": 0,
   "metadata": {
    "application/vnd.databricks.v1+cell": {
     "cellMetadata": {
      "byteLimit": 2048000,
      "rowLimit": 10000
     },
     "inputWidgets": {},
     "nuid": "60712a13-ddf4-4a79-92c5-33051bbab99c",
     "showTitle": false,
     "tableResultSettingsMap": {},
     "title": ""
    }
   },
   "outputs": [],
   "source": [
    "spark.conf.unset(\"spark.sql.autoBroadcastJoinThreshold\")\n",
    "spark.conf.unset(\"spark.databricks.adaptive.auteBroadcastJoinThreshold\")"
   ]
  },
  {
   "cell_type": "code",
   "execution_count": 0,
   "metadata": {
    "application/vnd.databricks.v1+cell": {
     "cellMetadata": {
      "byteLimit": 2048000,
      "implicitDf": true,
      "rowLimit": 10000
     },
     "inputWidgets": {},
     "nuid": "9f195992-0f16-4d18-bb8f-50314f6c1e60",
     "showTitle": false,
     "tableResultSettingsMap": {},
     "title": ""
    }
   },
   "outputs": [],
   "source": [
    "%sql\n",
    " SELECT\n",
    "        transactions.id,\n",
    "        amount,\n",
    "        countries.name as country_name,\n",
    "        employees,\n",
    "        stores.name as store_name\n",
    "    FROM\n",
    "        cgi_dev.swetha.transactions\n",
    "    LEFT JOIN\n",
    "         cgi_dev.swetha.stores\n",
    "        ON\n",
    "            transactions.store_id = stores.id\n",
    "        LEFT JOIN\n",
    "            cgi_dev.swetha.countries\n",
    "            ON\n",
    "                transactions.country_id = countries.id"
   ]
  }
 ],
 "metadata": {
  "application/vnd.databricks.v1+notebook": {
   "computePreferences": null,
   "dashboards": [],
   "environmentMetadata": {
    "base_environment": "",
    "environment_version": "2"
   },
   "language": "python",
   "notebookMetadata": {
    "mostRecentlyExecutedCommandWithImplicitDF": {
     "commandId": 76290583790463,
     "dataframes": [
      "_sqldf"
     ]
    },
    "pythonIndentUnit": 4
   },
   "notebookName": "Shuffle_joins",
   "widgets": {}
  },
  "language_info": {
   "name": "python"
  }
 },
 "nbformat": 4,
 "nbformat_minor": 0
}
