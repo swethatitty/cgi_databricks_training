{
 "cells": [
  {
   "cell_type": "code",
   "execution_count": 0,
   "metadata": {
    "application/vnd.databricks.v1+cell": {
     "cellMetadata": {},
     "inputWidgets": {},
     "nuid": "835560ac-a364-466d-95ed-0448d3b7a855",
     "showTitle": false,
     "tableResultSettingsMap": {},
     "title": ""
    }
   },
   "outputs": [],
   "source": [
    "Manged table : Delta \n",
    "(metadata(parquet+delta logs) is managed by databricks )\n",
    "\n",
    "create table emp (id int)\n",
    "\n",
    "\n",
    "spark.read.csv(\"path\").write.saveAsTable(\"tblname\")\n",
    "\n",
    "\n",
    "create table emp as select * from file.`path`\n",
    "\n",
    "\n",
    "DROP (table + metadata)"
   ]
  },
  {
   "cell_type": "code",
   "execution_count": 0,
   "metadata": {
    "application/vnd.databricks.v1+cell": {
     "cellMetadata": {},
     "inputWidgets": {},
     "nuid": "c1da3a49-cda7-474b-8de4-5777a29c618b",
     "showTitle": false,
     "tableResultSettingsMap": {},
     "title": ""
    }
   },
   "outputs": [],
   "source": [
    "unManged/External table : delta,parqut, etc \n",
    "(metadata(parquet+delta logs) is managed by users )\n",
    "\n",
    "create table emp (id int) location 's3'\n",
    "\n",
    "\n",
    "spark.read.csv(\"path\")\n",
    ".write.option(\"path\",\"s3\").saveAsTable(\"tblname\")\n",
    "\n",
    "\n",
    "create table emp location 'S3' as select * from file.`path`\n",
    "\n",
    "DROP (table) and metadata remain untouched "
   ]
  },
  {
   "cell_type": "code",
   "execution_count": 0,
   "metadata": {
    "application/vnd.databricks.v1+cell": {
     "cellMetadata": {
      "byteLimit": 2048000,
      "rowLimit": 10000
     },
     "inputWidgets": {},
     "nuid": "5561744a-f771-4808-9d4f-b6a3c0085dfe",
     "showTitle": false,
     "tableResultSettingsMap": {},
     "title": ""
    }
   },
   "outputs": [],
   "source": [
    "df=spark.read.csv(\"s3://datamaster/cgi/Crime_Data_from_2020_to_Present.csv\",header=True,inferSchema=True)"
   ]
  },
  {
   "cell_type": "code",
   "execution_count": 0,
   "metadata": {
    "application/vnd.databricks.v1+cell": {
     "cellMetadata": {
      "byteLimit": 2048000,
      "rowLimit": 10000
     },
     "inputWidgets": {},
     "nuid": "5ca418e4-5101-4068-a5ae-3315742179ce",
     "showTitle": false,
     "tableResultSettingsMap": {},
     "title": ""
    }
   },
   "outputs": [],
   "source": [
    "df.write.option(\"delta.columnMapping.mode\",\"name\").saveAsTable(\"cgi_dev.naval.crime_date\")"
   ]
  },
  {
   "cell_type": "code",
   "execution_count": 0,
   "metadata": {
    "application/vnd.databricks.v1+cell": {
     "cellMetadata": {
      "byteLimit": 2048000,
      "rowLimit": 10000
     },
     "inputWidgets": {},
     "nuid": "14b84b91-5455-404e-8b6d-d2f2f71e9322",
     "showTitle": false,
     "tableResultSettingsMap": {},
     "title": ""
    }
   },
   "outputs": [],
   "source": [
    "df.write.option(\"delta.columnMapping.mode\",\"name\").option(\"path\",\"s3://datamaster/output/crime_date\").saveAsTable(\"cgi_dev.naval.crime_date_ext\")"
   ]
  }
 ],
 "metadata": {
  "application/vnd.databricks.v1+notebook": {
   "computePreferences": null,
   "dashboards": [],
   "environmentMetadata": {
    "base_environment": "",
    "environment_version": "2"
   },
   "language": "python",
   "notebookMetadata": {
    "pythonIndentUnit": 4
   },
   "notebookName": "Managed vs External",
   "widgets": {}
  },
  "language_info": {
   "name": "python"
  }
 },
 "nbformat": 4,
 "nbformat_minor": 0
}
