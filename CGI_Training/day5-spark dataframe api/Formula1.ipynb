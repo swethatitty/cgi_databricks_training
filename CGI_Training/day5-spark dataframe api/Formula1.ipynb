{
 "cells": [
  {
   "cell_type": "markdown",
   "metadata": {
    "application/vnd.databricks.v1+cell": {
     "cellMetadata": {},
     "inputWidgets": {},
     "nuid": "99d5bc85-b1d5-47e3-a1b3-13d89859d098",
     "showTitle": false,
     "tableResultSettingsMap": {},
     "title": ""
    }
   },
   "source": [
    "Read JSON files from Naval's Volume and load to Bronze schema"
   ]
  },
  {
   "cell_type": "code",
   "execution_count": 0,
   "metadata": {
    "application/vnd.databricks.v1+cell": {
     "cellMetadata": {
      "byteLimit": 2048000,
      "rowLimit": 10000
     },
     "inputWidgets": {},
     "nuid": "3fa444eb-73ec-4d81-9e5f-1636953fa6c7",
     "showTitle": false,
     "tableResultSettingsMap": {},
     "title": ""
    }
   },
   "outputs": [],
   "source": [
    "from pyspark.sql.functions import *"
   ]
  },
  {
   "cell_type": "code",
   "execution_count": 0,
   "metadata": {
    "application/vnd.databricks.v1+cell": {
     "cellMetadata": {
      "byteLimit": 2048000,
      "rowLimit": 10000
     },
     "inputWidgets": {},
     "nuid": "ab4a8bf4-c564-4500-8046-2771e6fb7ae8",
     "showTitle": false,
     "tableResultSettingsMap": {},
     "title": ""
    }
   },
   "outputs": [],
   "source": [
    "bronze_catalog='cgi_dev'\n",
    "bronze_schema='swetha_bronze'\n",
    "\n",
    "file_path_circuit=\"/Volumes/cgi_dev/naval/formula1/circuits.csv\"\n",
    "file_path_constructors=\"/Volumes/cgi_dev/naval/formula1/constructors.json\"\n",
    "file_path_drivers=\"/Volumes/cgi_dev/naval/formula1/drivers.json\"\n",
    "file_path_pitstop=\"/Volumes/cgi_dev/naval/formula1/pit_stops.json\""
   ]
  },
  {
   "cell_type": "code",
   "execution_count": 0,
   "metadata": {
    "application/vnd.databricks.v1+cell": {
     "cellMetadata": {
      "byteLimit": 2048000,
      "rowLimit": 10000
     },
     "inputWidgets": {},
     "nuid": "3136bb52-95ab-4ea9-84b6-96146461a295",
     "showTitle": false,
     "tableResultSettingsMap": {},
     "title": ""
    }
   },
   "outputs": [],
   "source": [
    "df_circuit=spark.read.csv(file_path_circuit,header=True,inferSchema=True).withColumn(\"ingest_date\",current_timestamp()).withColumn(\"metadata\",col(\"_metadata\"))\n",
    "df_constructors=spark.read.json(file_path_constructors).withColumn(\"ingest_date\",current_timestamp()).withColumn(\"metadata\",col(\"_metadata\"))\n",
    "df_drivers=spark.read.json(file_path_drivers).withColumn(\"ingest_date\",current_timestamp()).withColumn(\"metadata\",col(\"_metadata\"))\n",
    "df_pitstop=spark.read.option(\"multiline\",True).json(file_path_pitstop).withColumn(\"ingest_date\",current_timestamp()).withColumn(\"metadata\",col(\"_metadata\"))\n",
    "\n",
    "#df_circuit.display()"
   ]
  },
  {
   "cell_type": "code",
   "execution_count": 0,
   "metadata": {
    "application/vnd.databricks.v1+cell": {
     "cellMetadata": {
      "byteLimit": 2048000,
      "rowLimit": 10000
     },
     "inputWidgets": {},
     "nuid": "1baee236-87fe-483a-9f25-900738409855",
     "showTitle": false,
     "tableResultSettingsMap": {},
     "title": ""
    }
   },
   "outputs": [],
   "source": [
    "#df_circuit.display()\n",
    "#df_constructors.display()\n",
    "#df_drivers.display()\n",
    "#df_pitstop.display()"
   ]
  },
  {
   "cell_type": "code",
   "execution_count": 0,
   "metadata": {
    "application/vnd.databricks.v1+cell": {
     "cellMetadata": {
      "byteLimit": 2048000,
      "rowLimit": 10000
     },
     "inputWidgets": {},
     "nuid": "33e23f7b-343d-4038-a46c-340e2e9ac9cd",
     "showTitle": false,
     "tableResultSettingsMap": {},
     "title": ""
    }
   },
   "outputs": [],
   "source": [
    "df_circuit.write.mode(\"overwrite\").saveAsTable(f\"{bronze_catalog}.{bronze_schema}.circuits\")\n",
    "df_constructors.write.mode(\"overwrite\").saveAsTable(f\"{bronze_catalog}.{bronze_schema}.constructors\")\n",
    "df_drivers.write.mode(\"overwrite\").saveAsTable(f\"{bronze_catalog}.{bronze_schema}.drivers\")\n",
    "df_pitstop.write.mode(\"overwrite\").saveAsTable(f\"{bronze_catalog}.{bronze_schema}.pitstops\")"
   ]
  },
  {
   "cell_type": "code",
   "execution_count": 0,
   "metadata": {
    "application/vnd.databricks.v1+cell": {
     "cellMetadata": {
      "byteLimit": 2048000,
      "implicitDf": true,
      "rowLimit": 10000
     },
     "inputWidgets": {},
     "nuid": "d69c8dab-ebd0-4b2d-8176-801f58e79dc8",
     "showTitle": false,
     "tableResultSettingsMap": {},
     "title": ""
    }
   },
   "outputs": [],
   "source": [
    "%sql\n",
    "select \"circuits\",count(*) from cgi_dev.swetha_bronze.circuits\n",
    "union\n",
    "select \"constructors\",count(*) from cgi_dev.swetha_bronze.constructors\n",
    "union\n",
    "select \"drivers\",count(*) from cgi_dev.swetha_bronze.drivers\n",
    "union\n",
    "select \"pitstop\",count(*) from cgi_dev.swetha_bronze.pitstops;\n"
   ]
  },
  {
   "cell_type": "code",
   "execution_count": 0,
   "metadata": {
    "application/vnd.databricks.v1+cell": {
     "cellMetadata": {
      "byteLimit": 2048000,
      "rowLimit": 10000
     },
     "inputWidgets": {},
     "nuid": "55217904-9c38-4d39-874b-09fe9fb53148",
     "showTitle": false,
     "tableResultSettingsMap": {},
     "title": ""
    }
   },
   "outputs": [],
   "source": [
    "df=spark.table(\"cgi_dev.swetha_bronze.drivers\")"
   ]
  },
  {
   "cell_type": "code",
   "execution_count": 0,
   "metadata": {
    "application/vnd.databricks.v1+cell": {
     "cellMetadata": {
      "byteLimit": 2048000,
      "rowLimit": 10000
     },
     "inputWidgets": {},
     "nuid": "08334bba-1552-4ff9-b179-c305dac66c48",
     "showTitle": false,
     "tableResultSettingsMap": {},
     "title": ""
    }
   },
   "outputs": [],
   "source": [
    "df_final=df\\\n",
    ".withColumn(\"forename\",col(\"name.forename\"))\\\n",
    ".withColumn(\"surname\",col(\"name.surname\"))\\\n",
    ".drop(\"name\",\"metadata\",\"ingestion_date\")"
   ]
  },
  {
   "cell_type": "code",
   "execution_count": 0,
   "metadata": {
    "application/vnd.databricks.v1+cell": {
     "cellMetadata": {
      "byteLimit": 2048000,
      "rowLimit": 10000
     },
     "inputWidgets": {},
     "nuid": "5a9741cb-b21c-430a-9850-2abc224a9471",
     "showTitle": false,
     "tableResultSettingsMap": {},
     "title": ""
    }
   },
   "outputs": [],
   "source": [
    "df_final.write.saveAsTable(\"cgi_dev.swetha_silver.drivers\")"
   ]
  },
  {
   "cell_type": "code",
   "execution_count": 0,
   "metadata": {
    "application/vnd.databricks.v1+cell": {
     "cellMetadata": {
      "byteLimit": 2048000,
      "implicitDf": true,
      "rowLimit": 10000
     },
     "inputWidgets": {},
     "nuid": "37feb42f-4db0-44bf-a4ae-33c1fe0afc77",
     "showTitle": false,
     "tableResultSettingsMap": {},
     "title": ""
    }
   },
   "outputs": [],
   "source": [
    "%sql\n",
    "select * from cgi_dev.swetha_silver.drivers limit 10;"
   ]
  }
 ],
 "metadata": {
  "application/vnd.databricks.v1+notebook": {
   "computePreferences": null,
   "dashboards": [],
   "environmentMetadata": {
    "base_environment": "",
    "environment_version": "2"
   },
   "inputWidgetPreferences": null,
   "language": "python",
   "notebookMetadata": {
    "mostRecentlyExecutedCommandWithImplicitDF": {
     "commandId": 1758486408704095,
     "dataframes": [
      "_sqldf"
     ]
    },
    "pythonIndentUnit": 4
   },
   "notebookName": "Formula1",
   "widgets": {}
  },
  "language_info": {
   "name": "python"
  }
 },
 "nbformat": 4,
 "nbformat_minor": 0
}
