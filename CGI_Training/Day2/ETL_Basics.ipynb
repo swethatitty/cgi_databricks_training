{
 "cells": [
  {
   "cell_type": "code",
   "execution_count": 0,
   "metadata": {
    "application/vnd.databricks.v1+cell": {
     "cellMetadata": {
      "byteLimit": 2048000,
      "rowLimit": 10000
     },
     "inputWidgets": {},
     "nuid": "ddb4462c-db03-4dcd-b0e5-107ce8477efd",
     "showTitle": false,
     "tableResultSettingsMap": {},
     "title": ""
    }
   },
   "outputs": [],
   "source": [
    "%run \"/Workspace/Users/swetha.kurian@cgi.com/cgi_databricks_training/CGI_Training/Day2/includes\""
   ]
  },
  {
   "cell_type": "code",
   "execution_count": 0,
   "metadata": {
    "application/vnd.databricks.v1+cell": {
     "cellMetadata": {
      "byteLimit": 2048000,
      "rowLimit": 10000
     },
     "inputWidgets": {},
     "nuid": "c83689c5-bacd-4ef6-864e-db7f8f52ba15",
     "showTitle": false,
     "tableResultSettingsMap": {},
     "title": ""
    }
   },
   "outputs": [],
   "source": [
    "df=spark.read.csv(f\"{input_path}super_store.csv\",header=True,inferSchema=True)\n",
    "df.display()"
   ]
  },
  {
   "cell_type": "code",
   "execution_count": 0,
   "metadata": {
    "application/vnd.databricks.v1+cell": {
     "cellMetadata": {
      "byteLimit": 2048000,
      "rowLimit": 10000
     },
     "inputWidgets": {},
     "nuid": "4eebdb24-c6c4-45b3-863f-c9d8c1e640c5",
     "showTitle": false,
     "tableResultSettingsMap": {},
     "title": ""
    }
   },
   "outputs": [],
   "source": [
    "df.select('Row ID').alias(\"Row_ID\")\n",
    "#df1.display()\n",
    "df.withColumnsRenamed({'Row ID':'Row_ID','Order ID':'Order_ID','Order Date':'Order_Date','Ship Date':'Ship_Date','Ship Mode':'Ship_Mode','Customer ID':'Customer_ID','Customer Name':'Customer_Name','Segment':'Segment','Country/Region':'Country_Region','City':'City','State':'State','Postal Code':'Postal_Code','Region':'Region','Product ID':'Product_ID','Category':'Category','Sub-Category':'Sub_Category','Product Name':'Product_Name','Sales':'Sales','Quantity':'Quantity','Discount':'Discount','Profit':'Profit'})\n",
    "#df1.display()\n"
   ]
  },
  {
   "cell_type": "code",
   "execution_count": 0,
   "metadata": {
    "application/vnd.databricks.v1+cell": {
     "cellMetadata": {
      "byteLimit": 2048000,
      "rowLimit": 10000
     },
     "inputWidgets": {},
     "nuid": "1771d6d0-791a-4941-82ba-1d13a86e9351",
     "showTitle": false,
     "tableResultSettingsMap": {},
     "title": ""
    }
   },
   "outputs": [],
   "source": [
    "df.columns"
   ]
  },
  {
   "cell_type": "code",
   "execution_count": 0,
   "metadata": {
    "application/vnd.databricks.v1+cell": {
     "cellMetadata": {
      "byteLimit": 2048000,
      "rowLimit": 10000
     },
     "inputWidgets": {},
     "nuid": "b833dae3-9d52-403b-b405-06685cc9b1f7",
     "showTitle": false,
     "tableResultSettingsMap": {},
     "title": ""
    }
   },
   "outputs": [],
   "source": [
    "new_col=['Row_ID',\n",
    " 'Order_ID',\n",
    " 'Order_Date',\n",
    " 'Ship_Date',\n",
    " 'Ship_Mode',\n",
    " 'Customer_ID',\n",
    " 'Customer_Name',\n",
    " 'Segment',\n",
    " 'Country_Region',\n",
    " 'City',\n",
    " 'State',\n",
    " 'Postal_Code',\n",
    " 'Region',\n",
    " 'Product_ID',\n",
    " 'Category',\n",
    " 'Sub_Category',\n",
    " 'Product_Name',\n",
    " 'Sales',\n",
    " 'Quantity',\n",
    " 'Discount',\n",
    " 'Profit']"
   ]
  },
  {
   "cell_type": "code",
   "execution_count": 0,
   "metadata": {
    "application/vnd.databricks.v1+cell": {
     "cellMetadata": {
      "byteLimit": 2048000,
      "rowLimit": 10000
     },
     "inputWidgets": {},
     "nuid": "e398ec0d-5115-44e5-ace0-8053dd24d2bc",
     "showTitle": false,
     "tableResultSettingsMap": {},
     "title": ""
    }
   },
   "outputs": [],
   "source": [
    "df1=df.toDF(*new_col)"
   ]
  },
  {
   "cell_type": "code",
   "execution_count": 0,
   "metadata": {
    "application/vnd.databricks.v1+cell": {
     "cellMetadata": {},
     "inputWidgets": {},
     "nuid": "0a7cb013-5763-4f69-9020-00158ca31610",
     "showTitle": false,
     "tableResultSettingsMap": {},
     "title": ""
    }
   },
   "outputs": [],
   "source": [
    "df2=df1.withColumn(\"ingestion_date\",current_date())"
   ]
  },
  {
   "cell_type": "code",
   "execution_count": 0,
   "metadata": {
    "application/vnd.databricks.v1+cell": {
     "cellMetadata": {},
     "inputWidgets": {},
     "nuid": "0c6b061a-75c3-4872-aad2-d3339ef5fc6c",
     "showTitle": false,
     "tableResultSettingsMap": {},
     "title": ""
    }
   },
   "outputs": [],
   "source": [
    "df2.write.saveAsTable(\"cgi_dev.swetha.super_store\")"
   ]
  }
 ],
 "metadata": {
  "application/vnd.databricks.v1+notebook": {
   "computePreferences": null,
   "dashboards": [],
   "environmentMetadata": {
    "base_environment": "",
    "environment_version": "2"
   },
   "inputWidgetPreferences": null,
   "language": "python",
   "notebookMetadata": {
    "pythonIndentUnit": 4
   },
   "notebookName": "ETL_Basics",
   "widgets": {}
  },
  "language_info": {
   "name": "python"
  }
 },
 "nbformat": 4,
 "nbformat_minor": 0
}
