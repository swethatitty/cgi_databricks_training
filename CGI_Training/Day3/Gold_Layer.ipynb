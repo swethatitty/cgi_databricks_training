{
 "cells": [
  {
   "cell_type": "code",
   "execution_count": 0,
   "metadata": {
    "application/vnd.databricks.v1+cell": {
     "cellMetadata": {
      "byteLimit": 2048000,
      "implicitDf": true,
      "rowLimit": 10000
     },
     "inputWidgets": {},
     "nuid": "5781e02c-029d-47ec-bc4d-97dcdf79607d",
     "showTitle": false,
     "tableResultSettingsMap": {},
     "title": ""
    }
   },
   "outputs": [],
   "source": [
    "%sql\n",
    "create or replace view cgi_dev.swetha_gold.vw_sales_details as \n",
    "(SELECT \n",
    "    o.order_id,\n",
    "    o.order_date,\n",
    "    o.customer_id,\n",
    "    c.customer_name,\n",
    "    c.customer_email,\n",
    "    c.customer_city,\n",
    "    o.product_id,\n",
    "    p.product_name,\n",
    "    p.product_category,\n",
    "    p.product_price,\n",
    "    o.quantity,\n",
    "    o.discount_amount,\n",
    "    o.total_amount,\n",
    "    cgi_dev.swetha.categorize_order(total_amount) as order_category\n",
    "FROM cgi_dev.swetha_silver.sales o\n",
    "JOIN cgi_dev.swetha_silver.products p\n",
    "  ON o.product_id = p.product_id\n",
    "JOIN (\n",
    "      SELECT DISTINCT customer_id, customer_name, customer_email, customer_city \n",
    "      FROM cgi_dev.swetha_silver.customers\n",
    "     ) c\n",
    "  ON o.customer_id = c.customer_id)"
   ]
  },
  {
   "cell_type": "code",
   "execution_count": 0,
   "metadata": {
    "application/vnd.databricks.v1+cell": {
     "cellMetadata": {
      "byteLimit": 2048000,
      "implicitDf": true,
      "rowLimit": 10000
     },
     "inputWidgets": {},
     "nuid": "abc54687-74f9-40bf-9e4a-fa2c6ec68a8e",
     "showTitle": false,
     "tableResultSettingsMap": {},
     "title": ""
    }
   },
   "outputs": [],
   "source": [
    "%sql\n",
    "select * from cgi_dev.swetha_gold.vw_sales_details;"
   ]
  },
  {
   "cell_type": "code",
   "execution_count": 0,
   "metadata": {
    "application/vnd.databricks.v1+cell": {
     "cellMetadata": {
      "byteLimit": 2048000,
      "implicitDf": true,
      "rowLimit": 10000
     },
     "inputWidgets": {},
     "nuid": "c84d5009-f1f4-4ceb-8e36-1b71c8bafb4a",
     "showTitle": true,
     "tableResultSettingsMap": {},
     "title": "What is the total revenue by product category?"
    }
   },
   "outputs": [],
   "source": [
    "%sql\n",
    "create or replace view cgi_dev.swetha_gold.product_category as\n",
    "select product_category, round((sum(total_amount)/1000000),4)||'M' as total_revenue\n",
    "from cgi_dev.swetha_gold.vw_sales_details\n",
    "group by 1\n",
    "order by 2 desc;"
   ]
  },
  {
   "cell_type": "code",
   "execution_count": 0,
   "metadata": {
    "application/vnd.databricks.v1+cell": {
     "cellMetadata": {
      "byteLimit": 2048000,
      "implicitDf": true,
      "rowLimit": 10000
     },
     "inputWidgets": {},
     "nuid": "1d421fd5-d0b7-40b7-8e4a-643f47166d5f",
     "showTitle": false,
     "tableResultSettingsMap": {},
     "title": ""
    }
   },
   "outputs": [],
   "source": [
    "%sql\n",
    "select * from cgi_dev.swetha_gold.product_category;"
   ]
  },
  {
   "cell_type": "code",
   "execution_count": 0,
   "metadata": {
    "application/vnd.databricks.v1+cell": {
     "cellMetadata": {
      "byteLimit": 2048000,
      "implicitDf": true,
      "rowLimit": 10000
     },
     "inputWidgets": {},
     "nuid": "4e021b77-6508-45ee-bb26-75659de0cbbf",
     "showTitle": true,
     "tableResultSettingsMap": {},
     "title": "Who are the top 3 customers by total revenue?"
    }
   },
   "outputs": [],
   "source": [
    "%sql\n",
    "create or replace view cgi_dev.swetha_gold.customer_revenue as\n",
    "SELECT \n",
    "    customer_id, \n",
    "    customer_name, \n",
    "    round(SUM(total_amount)) AS total_revenue\n",
    "FROM cgi_dev.swetha_gold.vw_sales_details\n",
    "GROUP BY customer_id, customer_name\n",
    "ORDER BY total_revenue DESC\n",
    "LIMIT 3;"
   ]
  }
 ],
 "metadata": {
  "application/vnd.databricks.v1+notebook": {
   "computePreferences": null,
   "dashboards": [],
   "environmentMetadata": {
    "base_environment": "",
    "environment_version": "2"
   },
   "language": "python",
   "notebookMetadata": {
    "mostRecentlyExecutedCommandWithImplicitDF": {
     "commandId": 2775447339680758,
     "dataframes": [
      "_sqldf"
     ]
    },
    "pythonIndentUnit": 4
   },
   "notebookName": "Gold_Layer",
   "widgets": {}
  },
  "language_info": {
   "name": "python"
  }
 },
 "nbformat": 4,
 "nbformat_minor": 0
}
