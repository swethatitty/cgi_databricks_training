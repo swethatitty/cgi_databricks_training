{
 "cells": [
  {
   "cell_type": "code",
   "execution_count": 0,
   "metadata": {
    "application/vnd.databricks.v1+cell": {
     "cellMetadata": {},
     "inputWidgets": {},
     "nuid": "fbdf3fbb-b6b0-424d-887d-8b1b6ea360f4",
     "showTitle": true,
     "tableResultSettingsMap": {},
     "title": "Syntax"
    }
   },
   "outputs": [],
   "source": [
    "create function function_name(para1 datatypes)\n",
    "returns datatype\n",
    "return logic "
   ]
  },
  {
   "cell_type": "code",
   "execution_count": 0,
   "metadata": {
    "application/vnd.databricks.v1+cell": {
     "cellMetadata": {
      "byteLimit": 2048000,
      "rowLimit": 10000
     },
     "inputWidgets": {},
     "nuid": "48fc3d79-2815-4705-9c0c-d4f65d1704af",
     "showTitle": true,
     "tableResultSettingsMap": {},
     "title": "categorize_order_function"
    }
   },
   "outputs": [],
   "source": [
    "create or replace function cgi_dev.swetha.categorize_order(amount double)\n",
    "returns string\n",
    "return case\n",
    "      when amount>1000 then 'high value order'\n",
    "      when amount between 500 and 1000 then 'medium value order'\n",
    "      else 'low value order'\n",
    "    end;"
   ]
  }
 ],
 "metadata": {
  "application/vnd.databricks.v1+notebook": {
   "computePreferences": null,
   "dashboards": [],
   "environmentMetadata": {
    "base_environment": "",
    "environment_version": "2"
   },
   "inputWidgetPreferences": null,
   "language": "sql",
   "notebookMetadata": {},
   "notebookName": "UDF",
   "widgets": {}
  },
  "language_info": {
   "name": "sql"
  }
 },
 "nbformat": 4,
 "nbformat_minor": 0
}
