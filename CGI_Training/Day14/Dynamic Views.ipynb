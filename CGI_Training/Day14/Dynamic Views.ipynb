{
 "cells": [
  {
   "cell_type": "code",
   "execution_count": 0,
   "metadata": {
    "application/vnd.databricks.v1+cell": {
     "cellMetadata": {
      "byteLimit": 2048000,
      "rowLimit": 10000
     },
     "inputWidgets": {},
     "nuid": "24c7c538-a3e5-4b6d-9e78-b54058a42d0c",
     "showTitle": false,
     "tableResultSettingsMap": {},
     "title": ""
    }
   },
   "outputs": [],
   "source": [
    "use catalog cgi_dev;\n",
    "use schema naval_silver;"
   ]
  },
  {
   "cell_type": "code",
   "execution_count": 0,
   "metadata": {
    "application/vnd.databricks.v1+cell": {
     "cellMetadata": {
      "byteLimit": 2048000,
      "rowLimit": 10000
     },
     "inputWidgets": {},
     "nuid": "00a2b56f-be36-469b-92d3-86946cc3493d",
     "showTitle": false,
     "tableResultSettingsMap": {},
     "title": ""
    }
   },
   "outputs": [],
   "source": [
    "CREATE OR REPLACE TABLE heartrate_device (device_id INT, mrn STRING, name STRING, time TIMESTAMP, heartrate DOUBLE);\n",
    "\n",
    "INSERT INTO heartrate_device VALUES\n",
    "  (23, \"40580129\", \"Nicholas Spears\", \"2020-02-01T00:01:58.000+0000\", 54.0122153343),\n",
    "  (17, \"52804177\", \"Lynn Russell\", \"2020-02-01T00:02:55.000+0000\", 92.5136468131),\n",
    "  (37, \"65300842\", \"Samuel Hughes\", \"2020-02-01T00:08:58.000+0000\", 52.1354807863),\n",
    "  (23, \"40580129\", \"Nicholas Spears\", \"2020-02-01T00:16:51.000+0000\", 54.6477014191),\n",
    "  (17, \"52804177\", \"Lynn Russell\", \"2020-02-01T00:18:08.000+0000\", 95.033344842);\n",
    "  \n",
    "SELECT * FROM heartrate_device"
   ]
  },
  {
   "cell_type": "code",
   "execution_count": 0,
   "metadata": {
    "application/vnd.databricks.v1+cell": {
     "cellMetadata": {
      "byteLimit": 2048000,
      "rowLimit": 10000
     },
     "inputWidgets": {},
     "nuid": "052385df-a22f-49d7-859f-5f1ea3cdc78e",
     "showTitle": false,
     "tableResultSettingsMap": {},
     "title": ""
    }
   },
   "outputs": [],
   "source": [
    "CREATE OR REPLACE VIEW naval_gold.agg_heartrate AS (\n",
    "  SELECT mrn, name, MEAN(heartrate) avg_heartrate, DATE_TRUNC(\"DD\", time) date\n",
    "  FROM heartrate_device\n",
    "  GROUP BY mrn, name, DATE_TRUNC(\"DD\", time)\n",
    ");\n",
    "SELECT * FROM naval_gold.agg_heartrate"
   ]
  },
  {
   "cell_type": "code",
   "execution_count": 0,
   "metadata": {
    "application/vnd.databricks.v1+cell": {
     "cellMetadata": {
      "byteLimit": 2048000,
      "rowLimit": 10000
     },
     "inputWidgets": {},
     "nuid": "1eb8905f-5105-4cbf-aba1-fa5d88098f13",
     "showTitle": true,
     "tableResultSettingsMap": {},
     "title": "Column"
    }
   },
   "outputs": [],
   "source": [
    "CREATE OR REPLACE VIEW naval_gold.agg_heartrate AS\n",
    "SELECT\n",
    "  CASE WHEN\n",
    "    is_account_group_member('dataanlysts') THEN 'REDACTED'\n",
    "    ELSE mrn\n",
    "  END AS mrn,\n",
    "  CASE WHEN\n",
    "    is_account_group_member('dataanlysts') THEN 'REDACTED'\n",
    "    ELSE name\n",
    "  END AS name,\n",
    "  MEAN(heartrate) avg_heartrate,\n",
    "  DATE_TRUNC(\"DD\", time) date\n",
    "  FROM heartrate_device\n",
    "  GROUP BY mrn, name, DATE_TRUNC(\"DD\", time)"
   ]
  },
  {
   "cell_type": "code",
   "execution_count": 0,
   "metadata": {
    "application/vnd.databricks.v1+cell": {
     "cellMetadata": {
      "byteLimit": 2048000,
      "rowLimit": 10000
     },
     "inputWidgets": {},
     "nuid": "35d844bb-b808-43a1-bc1e-e027f622d61d",
     "showTitle": false,
     "tableResultSettingsMap": {},
     "title": ""
    }
   },
   "outputs": [],
   "source": [
    "select * from naval_gold.agg_heartrate"
   ]
  },
  {
   "cell_type": "code",
   "execution_count": 0,
   "metadata": {
    "application/vnd.databricks.v1+cell": {
     "cellMetadata": {
      "byteLimit": 2048000,
      "rowLimit": 10000
     },
     "inputWidgets": {},
     "nuid": "c6114dff-2cf6-4fa1-b8fe-6b15d17ffd53",
     "showTitle": false,
     "tableResultSettingsMap": {},
     "title": ""
    }
   },
   "outputs": [],
   "source": [
    "CREATE OR REPLACE VIEW naval_gold.agg_heartrate AS\n",
    "SELECT\n",
    "  mrn,\n",
    "  time,\n",
    "  device_id,\n",
    "  heartrate\n",
    "FROM heartrate_device\n",
    "WHERE\n",
    "  CASE WHEN\n",
    "    is_account_group_member('dataeng') THEN device_id < 30\n",
    "    ELSE TRUE\n",
    "  END"
   ]
  },
  {
   "cell_type": "code",
   "execution_count": 0,
   "metadata": {
    "application/vnd.databricks.v1+cell": {
     "cellMetadata": {
      "byteLimit": 2048000,
      "rowLimit": 10000
     },
     "inputWidgets": {},
     "nuid": "eaee4e30-e080-4d61-a797-766e9dd40f7d",
     "showTitle": false,
     "tableResultSettingsMap": {},
     "title": ""
    }
   },
   "outputs": [],
   "source": [
    "select * from naval_gold.agg_heartrate"
   ]
  },
  {
   "cell_type": "code",
   "execution_count": 0,
   "metadata": {
    "application/vnd.databricks.v1+cell": {
     "cellMetadata": {
      "byteLimit": 2048000,
      "rowLimit": 10000
     },
     "inputWidgets": {},
     "nuid": "a570a104-190f-4666-8c43-d0f09c4dfa66",
     "showTitle": false,
     "tableResultSettingsMap": {},
     "title": ""
    }
   },
   "outputs": [],
   "source": [
    "CREATE OR REPLACE FUNCTION datamask(x STRING)\n",
    "  RETURNS STRING\n",
    "  RETURN CONCAT(REPEAT(\"*\", LENGTH(x) - 2), RIGHT(x, 2)\n",
    "); \n"
   ]
  },
  {
   "cell_type": "code",
   "execution_count": 0,
   "metadata": {
    "application/vnd.databricks.v1+cell": {
     "cellMetadata": {
      "byteLimit": 2048000,
      "rowLimit": 10000
     },
     "inputWidgets": {},
     "nuid": "7c2e39a4-da46-483b-84c1-734ff11948bb",
     "showTitle": false,
     "tableResultSettingsMap": {},
     "title": ""
    }
   },
   "outputs": [],
   "source": [
    "SELECT datamask('naval@gmail.com') AS data"
   ]
  },
  {
   "cell_type": "code",
   "execution_count": 0,
   "metadata": {
    "application/vnd.databricks.v1+cell": {
     "cellMetadata": {
      "byteLimit": 2048000,
      "rowLimit": 10000
     },
     "inputWidgets": {},
     "nuid": "536a335a-a3ca-4cd9-ac2e-d00df9b13a9c",
     "showTitle": false,
     "tableResultSettingsMap": {},
     "title": ""
    }
   },
   "outputs": [],
   "source": [
    "drop view if exists naval_gold.agg_heartrate;\n",
    "\n",
    "CREATE or replace VIEW naval_gold.agg_heartrate AS\n",
    "SELECT\n",
    "  CASE WHEN\n",
    "    is_account_group_member('dataeng') THEN datamask(mrn)\n",
    "    ELSE mrn\n",
    "  END AS mrn,\n",
    "  time,\n",
    "  device_id,\n",
    "  heartrate\n",
    "FROM heartrate_device"
   ]
  },
  {
   "cell_type": "code",
   "execution_count": 0,
   "metadata": {
    "application/vnd.databricks.v1+cell": {
     "cellMetadata": {
      "byteLimit": 2048000,
      "rowLimit": 10000
     },
     "inputWidgets": {},
     "nuid": "e132a082-37c9-4d8d-9c46-9ab180dd0216",
     "showTitle": false,
     "tableResultSettingsMap": {},
     "title": ""
    }
   },
   "outputs": [],
   "source": [
    "drop view if exists naval_gold.agg_heartrate;\n",
    "\n",
    "CREATE or replace VIEW naval_gold.agg_heartrate AS\n",
    "SELECT\n",
    "  CASE WHEN\n",
    "    is_account_group_member('dataeng') THEN mrn\n",
    "    ELSE datamask(mrn)\n",
    "  END AS mrn,\n",
    "  time,\n",
    "  device_id,\n",
    "  heartrate\n",
    "FROM heartrate_device"
   ]
  },
  {
   "cell_type": "code",
   "execution_count": 0,
   "metadata": {
    "application/vnd.databricks.v1+cell": {
     "cellMetadata": {
      "byteLimit": 2048000,
      "rowLimit": 10000
     },
     "inputWidgets": {},
     "nuid": "28445936-e813-4673-bdc8-c4154aabc1ea",
     "showTitle": false,
     "tableResultSettingsMap": {},
     "title": ""
    }
   },
   "outputs": [],
   "source": [
    "select * from naval_gold.agg_heartrate"
   ]
  },
  {
   "cell_type": "code",
   "execution_count": 0,
   "metadata": {
    "application/vnd.databricks.v1+cell": {
     "cellMetadata": {
      "byteLimit": 2048000,
      "rowLimit": 10000
     },
     "inputWidgets": {},
     "nuid": "471a83f9-4334-4ec6-a5f3-e689c04fb9d4",
     "showTitle": false,
     "tableResultSettingsMap": {},
     "title": ""
    }
   },
   "outputs": [],
   "source": [
    "drop view if exists naval_gold.agg_heartrate;\n",
    "\n",
    "CREATE or replace VIEW naval_gold.agg_heartrate AS\n",
    "SELECT\n",
    "  CASE WHEN\n",
    "    is_account_group_member('account users') THEN datamask(mrn)\n",
    "    ELSE mrn\n",
    "  END AS mrn,\n",
    "  time,\n",
    "  device_id,\n",
    "  heartrate\n",
    "FROM heartrate_device\n",
    "WHERE\n",
    "  CASE WHEN\n",
    "    is_account_group_member('account users') THEN device_id < 30\n",
    "    ELSE TRUE\n",
    "  END"
   ]
  },
  {
   "cell_type": "code",
   "execution_count": 0,
   "metadata": {
    "application/vnd.databricks.v1+cell": {
     "cellMetadata": {
      "byteLimit": 2048000,
      "rowLimit": 10000
     },
     "inputWidgets": {},
     "nuid": "3029cd7f-b380-4cdd-923e-476341870433",
     "showTitle": false,
     "tableResultSettingsMap": {},
     "title": ""
    }
   },
   "outputs": [],
   "source": [
    "select * from naval_gold.agg_heartrate"
   ]
  }
 ],
 "metadata": {
  "application/vnd.databricks.v1+notebook": {
   "computePreferences": null,
   "dashboards": [],
   "environmentMetadata": {
    "base_environment": "",
    "environment_version": "2"
   },
   "inputWidgetPreferences": null,
   "language": "sql",
   "notebookMetadata": {
    "pythonIndentUnit": 4
   },
   "notebookName": "Dynamic Views",
   "widgets": {}
  },
  "language_info": {
   "name": "sql"
  }
 },
 "nbformat": 4,
 "nbformat_minor": 0
}
